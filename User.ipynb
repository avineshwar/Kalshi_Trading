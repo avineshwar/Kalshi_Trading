{
 "cells": [
  {
   "cell_type": "code",
   "execution_count": 3,
   "metadata": {},
   "outputs": [],
   "source": [
    "import pandas as pd\n",
    "from datetime import datetime"
   ]
  },
  {
   "cell_type": "markdown",
   "metadata": {},
   "source": [
    "## Username and Password"
   ]
  },
  {
   "cell_type": "code",
   "execution_count": 1,
   "metadata": {},
   "outputs": [],
   "source": [
    "username = ''\n",
    "password = ''"
   ]
  },
  {
   "cell_type": "markdown",
   "metadata": {},
   "source": [
    "## Other parameters"
   ]
  },
  {
   "cell_type": "code",
   "execution_count": null,
   "metadata": {},
   "outputs": [],
   "source": [
    "#Manually adjust historical FOMCs\n",
    "#Date is set to be actual release date + 1\n",
    "#e.g. 22Dec meeting took place on Dec 14th, 2022, so We set the confirmed rate to be updated on Dec 15th, 2022.\n",
    "actual_FOMC={\n",
    "    '22SEP':[datetime(2022,9,22),300],\n",
    "    '22NOV':[datetime(2022,11,3),375],\n",
    "    '22DEC': [datetime(2022,12,15),425],\n",
    "    }\n",
    "actual_FOMC_df = pd.DataFrame.from_dict(actual_FOMC,orient= 'index',columns = ['Update Date','FFR in bps'])\n",
    "\n",
    "#default historical window is 90\n",
    "lookback = 90"
   ]
  }
 ],
 "metadata": {
  "kernelspec": {
   "display_name": "Python 3",
   "language": "python",
   "name": "python3"
  },
  "language_info": {
   "codemirror_mode": {
    "name": "ipython",
    "version": 3
   },
   "file_extension": ".py",
   "mimetype": "text/x-python",
   "name": "python",
   "nbconvert_exporter": "python",
   "pygments_lexer": "ipython3",
   "version": "3.8.3"
  }
 },
 "nbformat": 4,
 "nbformat_minor": 4
}
