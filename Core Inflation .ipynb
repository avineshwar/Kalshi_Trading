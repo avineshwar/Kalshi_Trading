{
 "cells": [
  {
   "cell_type": "code",
   "execution_count": 1,
   "metadata": {},
   "outputs": [],
   "source": [
    "import urllib\n",
    "from KalshiClientsBase import ExchangeClient\n",
    "import pandas as pd\n",
    "import numpy as np\n",
    "from datetime import datetime\n",
    "import json\n",
    "import urllib.request,urllib.parse,urllib.error\n",
    "import matplotlib.pyplot as plt\n",
    "import openpyxl"
   ]
  },
  {
   "cell_type": "code",
   "execution_count": 2,
   "metadata": {},
   "outputs": [
    {
     "name": "stdout",
     "output_type": "stream",
     "text": [
      "3301c8c8-6275-4727-b424-373bbb58f39e\n"
     ]
    },
    {
     "data": {
      "text/plain": [
       "'/v1/markets/HOME-0001'"
      ]
     },
     "execution_count": 2,
     "metadata": {},
     "output_type": "execute_result"
    }
   ],
   "source": [
    "username = \"\" # change this \n",
    "password = \"\" # change this (for extra security, we recommend using a config file)\n",
    "exchange_api_base = \"https://trading-api.kalshi.com\"\n",
    "\n",
    "exchange_client = ExchangeClient(exchange_api_base, username, password)\n",
    "print(exchange_client.user_id)\n",
    "exchange_client.get_market_url('HOME-0001')"
   ]
  },
  {
   "cell_type": "code",
   "execution_count": 39,
   "metadata": {},
   "outputs": [],
   "source": [
    "markets = exchange_client.get_public_markets()\n",
    "markets_df = pd.DataFrame(markets['markets']).set_index('id')\n",
    "corecpis = markets_df[markets_df.title.str.contains(\"core\")]"
   ]
  },
  {
   "cell_type": "code",
   "execution_count": 33,
   "metadata": {
    "scrolled": false
   },
   "outputs": [],
   "source": [
    "def get_contracts(markets_df,year, month):\n",
    "    #get range of contracts of different rates for the CPI month\n",
    "    #used to check unique ID of each contract. markets_df contains all contracts\n",
    "    #e.g. year = 22, month = 'NOV'\n",
    "    ranged_ticker = f'CPICORE-{str(year)}{month}'\n",
    "    target_contracts = markets_df[markets_df.ranged_group_ticker.str.contains(ranged_ticker)]\n",
    "    columns = ['ranged_group_ticker','name','volume','yes_bid','yes_ask','list_date','close_date']\n",
    "    targets = target_contracts[columns]\n",
    "    return targets\n",
    "\n",
    "all_july_corecpis = get_contracts(markets_df,22,'NOV')"
   ]
  },
  {
   "cell_type": "code",
   "execution_count": 34,
   "metadata": {},
   "outputs": [
    {
     "data": {
      "text/html": [
       "<div>\n",
       "<style scoped>\n",
       "    .dataframe tbody tr th:only-of-type {\n",
       "        vertical-align: middle;\n",
       "    }\n",
       "\n",
       "    .dataframe tbody tr th {\n",
       "        vertical-align: top;\n",
       "    }\n",
       "\n",
       "    .dataframe thead th {\n",
       "        text-align: right;\n",
       "    }\n",
       "</style>\n",
       "<table border=\"1\" class=\"dataframe\">\n",
       "  <thead>\n",
       "    <tr style=\"text-align: right;\">\n",
       "      <th></th>\n",
       "      <th>ranged_group_ticker</th>\n",
       "      <th>name</th>\n",
       "      <th>volume</th>\n",
       "      <th>yes_bid</th>\n",
       "      <th>yes_ask</th>\n",
       "      <th>list_date</th>\n",
       "      <th>close_date</th>\n",
       "    </tr>\n",
       "    <tr>\n",
       "      <th>id</th>\n",
       "      <th></th>\n",
       "      <th></th>\n",
       "      <th></th>\n",
       "      <th></th>\n",
       "      <th></th>\n",
       "      <th></th>\n",
       "      <th></th>\n",
       "    </tr>\n",
       "  </thead>\n",
       "  <tbody>\n",
       "    <tr>\n",
       "      <th>9d66e231-6e7a-4fc5-8d23-828d14abf0ff</th>\n",
       "      <td>CPICORE-22NOV</td>\n",
       "      <td>0.0%</td>\n",
       "      <td>15046</td>\n",
       "      <td>94</td>\n",
       "      <td>97</td>\n",
       "      <td>2022-07-01T14:00:00Z</td>\n",
       "      <td>2022-12-13T13:25:00Z</td>\n",
       "    </tr>\n",
       "    <tr>\n",
       "      <th>3510d881-e669-416b-8d44-2ff5dfd166c2</th>\n",
       "      <td>CPICORE-22NOV</td>\n",
       "      <td>0.1%</td>\n",
       "      <td>61458</td>\n",
       "      <td>88</td>\n",
       "      <td>90</td>\n",
       "      <td>2022-07-01T14:00:00Z</td>\n",
       "      <td>2022-12-13T13:25:00Z</td>\n",
       "    </tr>\n",
       "    <tr>\n",
       "      <th>7dc5058e-03ee-4ce9-9c84-dbfbf202d0d7</th>\n",
       "      <td>CPICORE-22NOV</td>\n",
       "      <td>0.2%</td>\n",
       "      <td>20236</td>\n",
       "      <td>61</td>\n",
       "      <td>66</td>\n",
       "      <td>2022-07-01T14:00:00Z</td>\n",
       "      <td>2022-12-13T13:25:00Z</td>\n",
       "    </tr>\n",
       "    <tr>\n",
       "      <th>c39720e9-73a5-4f3d-b9e7-10de231501ed</th>\n",
       "      <td>CPICORE-22NOV</td>\n",
       "      <td>0.3%</td>\n",
       "      <td>16264</td>\n",
       "      <td>38</td>\n",
       "      <td>42</td>\n",
       "      <td>2022-07-01T14:00:00Z</td>\n",
       "      <td>2022-12-13T13:25:00Z</td>\n",
       "    </tr>\n",
       "    <tr>\n",
       "      <th>796313f3-6059-497e-8c6a-abd0e4c04aee</th>\n",
       "      <td>CPICORE-22NOV</td>\n",
       "      <td>0.4%</td>\n",
       "      <td>5640</td>\n",
       "      <td>20</td>\n",
       "      <td>22</td>\n",
       "      <td>2022-07-01T14:00:00Z</td>\n",
       "      <td>2022-12-13T13:25:00Z</td>\n",
       "    </tr>\n",
       "    <tr>\n",
       "      <th>1c4a4b8e-15a6-43d0-8e57-7a075e0f2ef9</th>\n",
       "      <td>CPICORE-22NOV</td>\n",
       "      <td>0.5%</td>\n",
       "      <td>4990</td>\n",
       "      <td>7</td>\n",
       "      <td>10</td>\n",
       "      <td>2022-07-01T14:00:00Z</td>\n",
       "      <td>2022-12-13T13:25:00Z</td>\n",
       "    </tr>\n",
       "    <tr>\n",
       "      <th>65442197-cd2e-4abb-87dc-f89dde05f4ca</th>\n",
       "      <td>CPICORE-22NOV</td>\n",
       "      <td>0.6%</td>\n",
       "      <td>5700</td>\n",
       "      <td>1</td>\n",
       "      <td>4</td>\n",
       "      <td>2022-07-01T14:00:00Z</td>\n",
       "      <td>2022-12-13T13:25:00Z</td>\n",
       "    </tr>\n",
       "    <tr>\n",
       "      <th>5268f6d3-e9c8-4435-b208-7794363aa980</th>\n",
       "      <td>CPICORE-22NOV</td>\n",
       "      <td>0.7%</td>\n",
       "      <td>982</td>\n",
       "      <td>1</td>\n",
       "      <td>3</td>\n",
       "      <td>2022-07-01T14:00:00Z</td>\n",
       "      <td>2022-12-13T13:25:00Z</td>\n",
       "    </tr>\n",
       "    <tr>\n",
       "      <th>04ecd0e3-0a26-4a0e-acd8-75fdcc59eb32</th>\n",
       "      <td>CPICORE-22NOV</td>\n",
       "      <td>0.8%</td>\n",
       "      <td>1428</td>\n",
       "      <td>1</td>\n",
       "      <td>2</td>\n",
       "      <td>2022-07-01T14:00:00Z</td>\n",
       "      <td>2022-12-13T13:25:00Z</td>\n",
       "    </tr>\n",
       "  </tbody>\n",
       "</table>\n",
       "</div>"
      ],
      "text/plain": [
       "                                     ranged_group_ticker  name  volume  \\\n",
       "id                                                                       \n",
       "9d66e231-6e7a-4fc5-8d23-828d14abf0ff       CPICORE-22NOV  0.0%   15046   \n",
       "3510d881-e669-416b-8d44-2ff5dfd166c2       CPICORE-22NOV  0.1%   61458   \n",
       "7dc5058e-03ee-4ce9-9c84-dbfbf202d0d7       CPICORE-22NOV  0.2%   20236   \n",
       "c39720e9-73a5-4f3d-b9e7-10de231501ed       CPICORE-22NOV  0.3%   16264   \n",
       "796313f3-6059-497e-8c6a-abd0e4c04aee       CPICORE-22NOV  0.4%    5640   \n",
       "1c4a4b8e-15a6-43d0-8e57-7a075e0f2ef9       CPICORE-22NOV  0.5%    4990   \n",
       "65442197-cd2e-4abb-87dc-f89dde05f4ca       CPICORE-22NOV  0.6%    5700   \n",
       "5268f6d3-e9c8-4435-b208-7794363aa980       CPICORE-22NOV  0.7%     982   \n",
       "04ecd0e3-0a26-4a0e-acd8-75fdcc59eb32       CPICORE-22NOV  0.8%    1428   \n",
       "\n",
       "                                      yes_bid  yes_ask             list_date  \\\n",
       "id                                                                             \n",
       "9d66e231-6e7a-4fc5-8d23-828d14abf0ff       94       97  2022-07-01T14:00:00Z   \n",
       "3510d881-e669-416b-8d44-2ff5dfd166c2       88       90  2022-07-01T14:00:00Z   \n",
       "7dc5058e-03ee-4ce9-9c84-dbfbf202d0d7       61       66  2022-07-01T14:00:00Z   \n",
       "c39720e9-73a5-4f3d-b9e7-10de231501ed       38       42  2022-07-01T14:00:00Z   \n",
       "796313f3-6059-497e-8c6a-abd0e4c04aee       20       22  2022-07-01T14:00:00Z   \n",
       "1c4a4b8e-15a6-43d0-8e57-7a075e0f2ef9        7       10  2022-07-01T14:00:00Z   \n",
       "65442197-cd2e-4abb-87dc-f89dde05f4ca        1        4  2022-07-01T14:00:00Z   \n",
       "5268f6d3-e9c8-4435-b208-7794363aa980        1        3  2022-07-01T14:00:00Z   \n",
       "04ecd0e3-0a26-4a0e-acd8-75fdcc59eb32        1        2  2022-07-01T14:00:00Z   \n",
       "\n",
       "                                                close_date  \n",
       "id                                                          \n",
       "9d66e231-6e7a-4fc5-8d23-828d14abf0ff  2022-12-13T13:25:00Z  \n",
       "3510d881-e669-416b-8d44-2ff5dfd166c2  2022-12-13T13:25:00Z  \n",
       "7dc5058e-03ee-4ce9-9c84-dbfbf202d0d7  2022-12-13T13:25:00Z  \n",
       "c39720e9-73a5-4f3d-b9e7-10de231501ed  2022-12-13T13:25:00Z  \n",
       "796313f3-6059-497e-8c6a-abd0e4c04aee  2022-12-13T13:25:00Z  \n",
       "1c4a4b8e-15a6-43d0-8e57-7a075e0f2ef9  2022-12-13T13:25:00Z  \n",
       "65442197-cd2e-4abb-87dc-f89dde05f4ca  2022-12-13T13:25:00Z  \n",
       "5268f6d3-e9c8-4435-b208-7794363aa980  2022-12-13T13:25:00Z  \n",
       "04ecd0e3-0a26-4a0e-acd8-75fdcc59eb32  2022-12-13T13:25:00Z  "
      ]
     },
     "execution_count": 34,
     "metadata": {},
     "output_type": "execute_result"
    }
   ],
   "source": [
    "all_july_corecpis"
   ]
  },
  {
   "cell_type": "code",
   "execution_count": 6,
   "metadata": {},
   "outputs": [],
   "source": [
    "from tqdm.notebook import tqdm"
   ]
  },
  {
   "cell_type": "code",
   "execution_count": 7,
   "metadata": {},
   "outputs": [
    {
     "data": {
      "application/vnd.jupyter.widget-view+json": {
       "model_id": "b7d3db60d98d4b749bb4c5dcc1ff1114",
       "version_major": 2,
       "version_minor": 0
      },
      "text/plain": [
       "HBox(children=(FloatProgress(value=0.0, max=9.0), HTML(value='')))"
      ]
     },
     "metadata": {},
     "output_type": "display_data"
    },
    {
     "name": "stdout",
     "output_type": "stream",
     "text": [
      "\n"
     ]
    }
   ],
   "source": [
    "all_df = []\n",
    "for i in tqdm(range(all_july_corecpis.shape[0])):\n",
    "    market_id = all_july_corecpis.index[i]\n",
    "    url = f'https://trading-api.kalshi.com/v1/cached/markets/{market_id}/stats_history'\n",
    "    uh = urllib.request.urlopen(url)\n",
    "    data= uh.read().decode()\n",
    "    js = json.loads(data)\n",
    "\n",
    "    df = pd.DataFrame(js['market_stats_points'])\n",
    "    df['ts']= df['ts'].apply(lambda x: datetime.fromtimestamp(x))\n",
    "    df = df.drop('price',axis = 1)\n",
    "    df['ranged_group_ticker'] = all_july_corecpis.ranged_group_ticker[i]\n",
    "    df['name'] = all_july_corecpis.name[i]\n",
    "    all_df += [df]"
   ]
  },
  {
   "cell_type": "code",
   "execution_count": 8,
   "metadata": {},
   "outputs": [],
   "source": [
    "df_all = pd.concat(all_df)\n",
    "df_all = df_all.reset_index(drop=True)\n",
    "#yes_ask is price I can sell at (trader can buy at); yes_bid is price i can buy at\n",
    "#volume is total comulative trade volume\n",
    "def add_feats(df):\n",
    "    #adding some features that measures change & spread\n",
    "    df = df.loc[df['volume'] > 0].copy()\n",
    "    df['ask_change'] = df['yes_ask'].diff(1)\n",
    "    df['bid_change'] = df['yes_bid'].diff(1)\n",
    "    df['volume_change'] = df['volume'].diff(1)\n",
    "    df['bid_ask_spread'] = df['yes_ask'] - df['yes_bid']\n",
    "    df['bid_ask_spread_change'] = df['bid_ask_spread'].diff(1)\n",
    "    return df\n",
    "\n",
    "df_all_transformed = add_feats(df_all)\n",
    "df_all_transformed = df_all_transformed.sort_values(by=['ranged_group_ticker', 'name','ts']).reset_index(drop=True)"
   ]
  },
  {
   "cell_type": "code",
   "execution_count": 30,
   "metadata": {},
   "outputs": [
    {
     "data": {
      "text/plain": [
       "290.44444444444446"
      ]
     },
     "execution_count": 30,
     "metadata": {},
     "output_type": "execute_result"
    }
   ],
   "source": [
    "df_all_transformed.shape[0]/9"
   ]
  },
  {
   "cell_type": "code",
   "execution_count": null,
   "metadata": {},
   "outputs": [],
   "source": [
    "#t = 1.. T signal = 1, buy hold to expiryt\n",
    "#(PT - Pt) * signal\n",
    "#signal * (Pt + 1 -Pt)"
   ]
  },
  {
   "cell_type": "code",
   "execution_count": 354,
   "metadata": {},
   "outputs": [],
   "source": [
    "#df_all_transformed = df_all_transformed.reset_index(drop=True)\n",
    "# return from now until holding to expiry 1.. T, 2... T \n",
    "\n",
    "# no pnl assuming hold to maturity - target, (target 3: target/time) (using No contracts)\n",
    "target = df_all_transformed.groupby(['ranged_group_ticker', 'name']).apply(lambda x: x['yes_ask'].iloc[-2] - x['yes_bid'])\n",
    "df_all_transformed['target'] = target.reset_index().sort_values(by='level_2')['yes_bid'].rename({\"yes_bid\":\"target\"}, axis = 1)\n",
    "df_all_transformed['target'] = target.reset_index().sort_values(by='level_2')['yes_bid'].rename({\"yes_bid\":\"target\"}, axis = 1)\n",
    "\n",
    "target = df_all_transformed.groupby(['ranged_group_ticker', 'name']).apply(lambda x: x['ts'].iloc[-1] -  x['ts'])\n",
    "df_all_transformed['ttm'] = target.reset_index().sort_values(by='level_2')['ts'].rename({\"ts\":\"ttm\"}, axis = 1)\n",
    "df_all_transformed['target2'] = df_all_transformed['target'] / (df_all_transformed['ttm'].dt.days + 1)\n",
    "\n",
    "# yes pnl\n",
    "target = df_all_transformed.groupby(['ranged_group_ticker', 'name']).apply(lambda x: x['yes_bid'].iloc[-2] - x['yes_ask'].rename({\"yes_ask\":\"target3\"}, axis = 1) )\n",
    "\n",
    "df_all_transformed['target3'] = target.reset_index().sort_values(by='level_2')['yes_ask']\n",
    "df_all_transformed['target3'] = target.reset_index().sort_values(by='level_2')['yes_ask'].rename({\"yes_ask\":\"target3\"}, axis = 1)\n",
    "\n",
    "df_all_transformed['target4'] = df_all_transformed['target3'] / (df_all_transformed['ttm'].dt.days + 1)\n"
   ]
  },
  {
   "cell_type": "code",
   "execution_count": 355,
   "metadata": {},
   "outputs": [],
   "source": [
    "# sort by date for train test split\n",
    "df_all_transformed = df_all_transformed.sort_values(by=['ts', 'ranged_group_ticker', 'name']).reset_index(drop=True)"
   ]
  },
  {
   "cell_type": "code",
   "execution_count": 356,
   "metadata": {},
   "outputs": [
    {
     "data": {
      "text/plain": [
       "<matplotlib.axes._subplots.AxesSubplot at 0x20452b300a0>"
      ]
     },
     "execution_count": 356,
     "metadata": {},
     "output_type": "execute_result"
    },
    {
     "data": {
      "image/png": "[encoded data removed]",
      "text/plain": [
       "<Figure size 432x288 with 1 Axes>"
      ]
     },
     "metadata": {},
     "output_type": "display_data"
    }
   ],
   "source": [
    "import seaborn as sns\n",
    "sns.set()\n",
    "sns.regplot(np.log(df_all_transformed['bid_ask_spread']), df_all_transformed['target'])"
   ]
  },
  {
   "cell_type": "code",
   "execution_count": 357,
   "metadata": {},
   "outputs": [],
   "source": [
    "df_all_transformed = df_all_transformed.set_index(['ts', 'ranged_group_ticker', 'name'])"
   ]
  },
  {
   "cell_type": "code",
   "execution_count": 358,
   "metadata": {
    "scrolled": true
   },
   "outputs": [],
   "source": [
    "from sklearn.model_selection import train_test_split"
   ]
  },
  {
   "cell_type": "code",
   "execution_count": 395,
   "metadata": {},
   "outputs": [],
   "source": [
    "#target 2(buying Nos) PnL \n",
    "X_train, X_test, y_train, y_test = train_test_split(df_all_transformed['bid_ask_spread'], \n",
    "                                                    df_all_transformed['target'], \n",
    "                                                    test_size=0.1,shuffle = False)\n"
   ]
  },
  {
   "cell_type": "code",
   "execution_count": 396,
   "metadata": {},
   "outputs": [],
   "source": [
    "#check see dates of trading is < dates of test\n",
    "assert X_test.reset_index()['ts'].min() > X_train.reset_index()['ts'].max()"
   ]
  },
  {
   "cell_type": "code",
   "execution_count": 397,
   "metadata": {
    "scrolled": true
   },
   "outputs": [
    {
     "name": "stdout",
     "output_type": "stream",
     "text": [
      "Optimization terminated successfully.\n",
      "         Current function value: 0.624793\n",
      "         Iterations 6\n"
     ]
    }
   ],
   "source": [
    "from statsmodels.regression.linear_model import OLS\n",
    "from statsmodels.discrete.discrete_model import Logit\n",
    "res = Logit(y_train > 0, X_train).fit()\n",
    "y_pred = res.predict(X_test)"
   ]
  },
  {
   "cell_type": "code",
   "execution_count": 398,
   "metadata": {},
   "outputs": [
    {
     "data": {
      "text/plain": [
       "<matplotlib.axes._subplots.AxesSubplot at 0x204541ce580>"
      ]
     },
     "execution_count": 398,
     "metadata": {},
     "output_type": "execute_result"
    },
    {
     "data": {
      "image/png": "[encoded data removed]",
      "text/plain": [
       "<Figure size 432x288 with 1 Axes>"
      ]
     },
     "metadata": {},
     "output_type": "display_data"
    }
   ],
   "source": [
    "sns.distplot(y_pred)"
   ]
  },
  {
   "cell_type": "code",
   "execution_count": 399,
   "metadata": {},
   "outputs": [],
   "source": [
    "y_test.index = X_test.index"
   ]
  },
  {
   "cell_type": "code",
   "execution_count": 400,
   "metadata": {},
   "outputs": [],
   "source": [
    "yhat= res.predict()\n",
    "k = 0.65\n",
    "pnl = ((yhat * (yhat > k)) * y_train) # use signal as position if greater than threshold\n",
    "pnl_out = (y_pred * (y_pred>k)   * y_test)\n",
    "\n",
    "pnl = (((yhat > k)) * y_train) # use signal as position if greater than threshold\n",
    "pnl_out = ((y_pred>k)   * y_test)"
   ]
  },
  {
   "cell_type": "code",
   "execution_count": 401,
   "metadata": {
    "scrolled": true
   },
   "outputs": [
    {
     "data": {
      "text/plain": [
       "(2.6412213740458017, 3.9715136054421767)"
      ]
     },
     "execution_count": 401,
     "metadata": {},
     "output_type": "execute_result"
    }
   ],
   "source": [
    "#in vs out avg pnl\n",
    "y_test.mean(), y_train.mean()"
   ]
  },
  {
   "cell_type": "code",
   "execution_count": 402,
   "metadata": {},
   "outputs": [
    {
     "data": {
      "text/plain": [
       "0.5621898854231853"
      ]
     },
     "execution_count": 402,
     "metadata": {},
     "output_type": "execute_result"
    }
   ],
   "source": [
    "no_days = (pnl.reset_index()['ts'].max() - pnl.reset_index()['ts'].min()).days\n",
    "pnl.mean() / (1e-9 + pnl.std()) * np.sqrt(250 / no_days)"
   ]
  },
  {
   "cell_type": "code",
   "execution_count": 403,
   "metadata": {},
   "outputs": [
    {
     "data": {
      "text/plain": [
       "4.74813032226776"
      ]
     },
     "execution_count": 403,
     "metadata": {},
     "output_type": "execute_result"
    }
   ],
   "source": [
    "no_days = (pnl_out.reset_index()['ts'].max() - pnl_out.reset_index()['ts'].min()).days\n",
    "pnl_out.mean() / (1e-9 + pnl_out.std()) * np.sqrt(250 / no_days)"
   ]
  },
  {
   "cell_type": "code",
   "execution_count": 412,
   "metadata": {},
   "outputs": [
    {
     "data": {
      "text/html": [
       "<div>\n",
       "<style scoped>\n",
       "    .dataframe tbody tr th:only-of-type {\n",
       "        vertical-align: middle;\n",
       "    }\n",
       "\n",
       "    .dataframe tbody tr th {\n",
       "        vertical-align: top;\n",
       "    }\n",
       "\n",
       "    .dataframe thead th {\n",
       "        text-align: right;\n",
       "    }\n",
       "</style>\n",
       "<table border=\"1\" class=\"dataframe\">\n",
       "  <thead>\n",
       "    <tr style=\"text-align: right;\">\n",
       "      <th></th>\n",
       "      <th>ts</th>\n",
       "      <th>ranged_group_ticker</th>\n",
       "      <th>name</th>\n",
       "      <th>0</th>\n",
       "    </tr>\n",
       "  </thead>\n",
       "  <tbody>\n",
       "    <tr>\n",
       "      <th>0</th>\n",
       "      <td>2022-10-09 02:57:08</td>\n",
       "      <td>CPICORE-22SEP</td>\n",
       "      <td>0.4%</td>\n",
       "      <td>0</td>\n",
       "    </tr>\n",
       "    <tr>\n",
       "      <th>5</th>\n",
       "      <td>2022-10-09 13:15:34</td>\n",
       "      <td>CPICORE-22SEP</td>\n",
       "      <td>0.4%</td>\n",
       "      <td>0</td>\n",
       "    </tr>\n",
       "    <tr>\n",
       "      <th>15</th>\n",
       "      <td>2022-10-09 17:29:15</td>\n",
       "      <td>CPICORE-22SEP</td>\n",
       "      <td>0.4%</td>\n",
       "      <td>0</td>\n",
       "    </tr>\n",
       "    <tr>\n",
       "      <th>24</th>\n",
       "      <td>2022-10-09 23:40:08</td>\n",
       "      <td>CPICORE-22SEP</td>\n",
       "      <td>0.4%</td>\n",
       "      <td>0</td>\n",
       "    </tr>\n",
       "    <tr>\n",
       "      <th>32</th>\n",
       "      <td>2022-10-10 01:04:40</td>\n",
       "      <td>CPICORE-22SEP</td>\n",
       "      <td>0.4%</td>\n",
       "      <td>0</td>\n",
       "    </tr>\n",
       "    <tr>\n",
       "      <th>39</th>\n",
       "      <td>2022-10-10 02:47:13</td>\n",
       "      <td>CPICORE-22SEP</td>\n",
       "      <td>0.4%</td>\n",
       "      <td>0</td>\n",
       "    </tr>\n",
       "    <tr>\n",
       "      <th>45</th>\n",
       "      <td>2022-10-10 04:57:18</td>\n",
       "      <td>CPICORE-22SEP</td>\n",
       "      <td>0.4%</td>\n",
       "      <td>0</td>\n",
       "    </tr>\n",
       "    <tr>\n",
       "      <th>54</th>\n",
       "      <td>2022-10-10 13:17:17</td>\n",
       "      <td>CPICORE-22SEP</td>\n",
       "      <td>0.4%</td>\n",
       "      <td>0</td>\n",
       "    </tr>\n",
       "    <tr>\n",
       "      <th>64</th>\n",
       "      <td>2022-10-10 15:07:40</td>\n",
       "      <td>CPICORE-22SEP</td>\n",
       "      <td>0.4%</td>\n",
       "      <td>0</td>\n",
       "    </tr>\n",
       "    <tr>\n",
       "      <th>70</th>\n",
       "      <td>2022-10-10 18:02:44</td>\n",
       "      <td>CPICORE-22SEP</td>\n",
       "      <td>0.4%</td>\n",
       "      <td>0</td>\n",
       "    </tr>\n",
       "    <tr>\n",
       "      <th>77</th>\n",
       "      <td>2022-10-10 19:25:56</td>\n",
       "      <td>CPICORE-22SEP</td>\n",
       "      <td>0.4%</td>\n",
       "      <td>0</td>\n",
       "    </tr>\n",
       "    <tr>\n",
       "      <th>92</th>\n",
       "      <td>2022-10-10 21:36:23</td>\n",
       "      <td>CPICORE-22SEP</td>\n",
       "      <td>0.4%</td>\n",
       "      <td>0</td>\n",
       "    </tr>\n",
       "    <tr>\n",
       "      <th>102</th>\n",
       "      <td>2022-10-10 23:12:52</td>\n",
       "      <td>CPICORE-22SEP</td>\n",
       "      <td>0.4%</td>\n",
       "      <td>0</td>\n",
       "    </tr>\n",
       "    <tr>\n",
       "      <th>112</th>\n",
       "      <td>2022-10-11 03:20:14</td>\n",
       "      <td>CPICORE-22SEP</td>\n",
       "      <td>0.4%</td>\n",
       "      <td>0</td>\n",
       "    </tr>\n",
       "    <tr>\n",
       "      <th>119</th>\n",
       "      <td>2022-10-11 04:59:52</td>\n",
       "      <td>CPICORE-22SEP</td>\n",
       "      <td>0.4%</td>\n",
       "      <td>0</td>\n",
       "    </tr>\n",
       "    <tr>\n",
       "      <th>131</th>\n",
       "      <td>2022-10-11 13:19:38</td>\n",
       "      <td>CPICORE-22SEP</td>\n",
       "      <td>0.4%</td>\n",
       "      <td>0</td>\n",
       "    </tr>\n",
       "    <tr>\n",
       "      <th>138</th>\n",
       "      <td>2022-10-11 16:35:41</td>\n",
       "      <td>CPICORE-22SEP</td>\n",
       "      <td>0.4%</td>\n",
       "      <td>0</td>\n",
       "    </tr>\n",
       "    <tr>\n",
       "      <th>139</th>\n",
       "      <td>2022-10-11 16:58:01</td>\n",
       "      <td>CPICORE-22SEP</td>\n",
       "      <td>0.4%</td>\n",
       "      <td>0</td>\n",
       "    </tr>\n",
       "    <tr>\n",
       "      <th>149</th>\n",
       "      <td>2022-10-11 20:12:34</td>\n",
       "      <td>CPICORE-22SEP</td>\n",
       "      <td>0.4%</td>\n",
       "      <td>0</td>\n",
       "    </tr>\n",
       "    <tr>\n",
       "      <th>153</th>\n",
       "      <td>2022-10-11 21:26:36</td>\n",
       "      <td>CPICORE-22SEP</td>\n",
       "      <td>0.4%</td>\n",
       "      <td>0</td>\n",
       "    </tr>\n",
       "    <tr>\n",
       "      <th>163</th>\n",
       "      <td>2022-10-11 22:09:38</td>\n",
       "      <td>CPICORE-22SEP</td>\n",
       "      <td>0.4%</td>\n",
       "      <td>0</td>\n",
       "    </tr>\n",
       "    <tr>\n",
       "      <th>172</th>\n",
       "      <td>2022-10-12 01:35:58</td>\n",
       "      <td>CPICORE-22SEP</td>\n",
       "      <td>0.4%</td>\n",
       "      <td>0</td>\n",
       "    </tr>\n",
       "    <tr>\n",
       "      <th>176</th>\n",
       "      <td>2022-10-12 02:58:52</td>\n",
       "      <td>CPICORE-22SEP</td>\n",
       "      <td>0.4%</td>\n",
       "      <td>0</td>\n",
       "    </tr>\n",
       "    <tr>\n",
       "      <th>185</th>\n",
       "      <td>2022-10-12 04:56:26</td>\n",
       "      <td>CPICORE-22SEP</td>\n",
       "      <td>0.4%</td>\n",
       "      <td>0</td>\n",
       "    </tr>\n",
       "    <tr>\n",
       "      <th>196</th>\n",
       "      <td>2022-10-12 15:00:06</td>\n",
       "      <td>CPICORE-22SEP</td>\n",
       "      <td>0.4%</td>\n",
       "      <td>0</td>\n",
       "    </tr>\n",
       "    <tr>\n",
       "      <th>208</th>\n",
       "      <td>2022-10-12 16:53:39</td>\n",
       "      <td>CPICORE-22SEP</td>\n",
       "      <td>0.4%</td>\n",
       "      <td>0</td>\n",
       "    </tr>\n",
       "    <tr>\n",
       "      <th>211</th>\n",
       "      <td>2022-10-12 19:09:16</td>\n",
       "      <td>CPICORE-22SEP</td>\n",
       "      <td>0.4%</td>\n",
       "      <td>0</td>\n",
       "    </tr>\n",
       "    <tr>\n",
       "      <th>215</th>\n",
       "      <td>2022-10-12 19:46:37</td>\n",
       "      <td>CPICORE-22SEP</td>\n",
       "      <td>0.4%</td>\n",
       "      <td>0</td>\n",
       "    </tr>\n",
       "    <tr>\n",
       "      <th>222</th>\n",
       "      <td>2022-10-12 21:24:39</td>\n",
       "      <td>CPICORE-22SEP</td>\n",
       "      <td>0.4%</td>\n",
       "      <td>0</td>\n",
       "    </tr>\n",
       "    <tr>\n",
       "      <th>229</th>\n",
       "      <td>2022-10-12 23:04:05</td>\n",
       "      <td>CPICORE-22SEP</td>\n",
       "      <td>0.4%</td>\n",
       "      <td>0</td>\n",
       "    </tr>\n",
       "    <tr>\n",
       "      <th>233</th>\n",
       "      <td>2022-10-13 01:05:45</td>\n",
       "      <td>CPICORE-22SEP</td>\n",
       "      <td>0.4%</td>\n",
       "      <td>0</td>\n",
       "    </tr>\n",
       "    <tr>\n",
       "      <th>241</th>\n",
       "      <td>2022-10-13 02:49:39</td>\n",
       "      <td>CPICORE-22SEP</td>\n",
       "      <td>0.4%</td>\n",
       "      <td>0</td>\n",
       "    </tr>\n",
       "    <tr>\n",
       "      <th>248</th>\n",
       "      <td>2022-10-13 04:45:34</td>\n",
       "      <td>CPICORE-22SEP</td>\n",
       "      <td>0.4%</td>\n",
       "      <td>0</td>\n",
       "    </tr>\n",
       "    <tr>\n",
       "      <th>249</th>\n",
       "      <td>2022-10-13 13:03:27</td>\n",
       "      <td>CPICORE-22SEP</td>\n",
       "      <td>0.4%</td>\n",
       "      <td>0</td>\n",
       "    </tr>\n",
       "    <tr>\n",
       "      <th>260</th>\n",
       "      <td>2022-10-13 13:23:38</td>\n",
       "      <td>CPICORE-22SEP</td>\n",
       "      <td>0.4%</td>\n",
       "      <td>1</td>\n",
       "    </tr>\n",
       "    <tr>\n",
       "      <th>261</th>\n",
       "      <td>2022-10-13 13:23:41</td>\n",
       "      <td>CPICORE-22SEP</td>\n",
       "      <td>0.4%</td>\n",
       "      <td>0</td>\n",
       "    </tr>\n",
       "  </tbody>\n",
       "</table>\n",
       "</div>"
      ],
      "text/plain": [
       "                     ts ranged_group_ticker  name  0\n",
       "0   2022-10-09 02:57:08       CPICORE-22SEP  0.4%  0\n",
       "5   2022-10-09 13:15:34       CPICORE-22SEP  0.4%  0\n",
       "15  2022-10-09 17:29:15       CPICORE-22SEP  0.4%  0\n",
       "24  2022-10-09 23:40:08       CPICORE-22SEP  0.4%  0\n",
       "32  2022-10-10 01:04:40       CPICORE-22SEP  0.4%  0\n",
       "39  2022-10-10 02:47:13       CPICORE-22SEP  0.4%  0\n",
       "45  2022-10-10 04:57:18       CPICORE-22SEP  0.4%  0\n",
       "54  2022-10-10 13:17:17       CPICORE-22SEP  0.4%  0\n",
       "64  2022-10-10 15:07:40       CPICORE-22SEP  0.4%  0\n",
       "70  2022-10-10 18:02:44       CPICORE-22SEP  0.4%  0\n",
       "77  2022-10-10 19:25:56       CPICORE-22SEP  0.4%  0\n",
       "92  2022-10-10 21:36:23       CPICORE-22SEP  0.4%  0\n",
       "102 2022-10-10 23:12:52       CPICORE-22SEP  0.4%  0\n",
       "112 2022-10-11 03:20:14       CPICORE-22SEP  0.4%  0\n",
       "119 2022-10-11 04:59:52       CPICORE-22SEP  0.4%  0\n",
       "131 2022-10-11 13:19:38       CPICORE-22SEP  0.4%  0\n",
       "138 2022-10-11 16:35:41       CPICORE-22SEP  0.4%  0\n",
       "139 2022-10-11 16:58:01       CPICORE-22SEP  0.4%  0\n",
       "149 2022-10-11 20:12:34       CPICORE-22SEP  0.4%  0\n",
       "153 2022-10-11 21:26:36       CPICORE-22SEP  0.4%  0\n",
       "163 2022-10-11 22:09:38       CPICORE-22SEP  0.4%  0\n",
       "172 2022-10-12 01:35:58       CPICORE-22SEP  0.4%  0\n",
       "176 2022-10-12 02:58:52       CPICORE-22SEP  0.4%  0\n",
       "185 2022-10-12 04:56:26       CPICORE-22SEP  0.4%  0\n",
       "196 2022-10-12 15:00:06       CPICORE-22SEP  0.4%  0\n",
       "208 2022-10-12 16:53:39       CPICORE-22SEP  0.4%  0\n",
       "211 2022-10-12 19:09:16       CPICORE-22SEP  0.4%  0\n",
       "215 2022-10-12 19:46:37       CPICORE-22SEP  0.4%  0\n",
       "222 2022-10-12 21:24:39       CPICORE-22SEP  0.4%  0\n",
       "229 2022-10-12 23:04:05       CPICORE-22SEP  0.4%  0\n",
       "233 2022-10-13 01:05:45       CPICORE-22SEP  0.4%  0\n",
       "241 2022-10-13 02:49:39       CPICORE-22SEP  0.4%  0\n",
       "248 2022-10-13 04:45:34       CPICORE-22SEP  0.4%  0\n",
       "249 2022-10-13 13:03:27       CPICORE-22SEP  0.4%  0\n",
       "260 2022-10-13 13:23:38       CPICORE-22SEP  0.4%  1\n",
       "261 2022-10-13 13:23:41       CPICORE-22SEP  0.4%  0"
      ]
     },
     "execution_count": 412,
     "metadata": {},
     "output_type": "execute_result"
    }
   ],
   "source": [
    "#flip -- -shows signals may flip and there would be transaction cost\n",
    "((y_pred > 0.75) * 1).reset_index().query(\"name == '0.4%'\")"
   ]
  },
  {
   "cell_type": "code",
   "execution_count": 406,
   "metadata": {},
   "outputs": [
    {
     "data": {
      "text/plain": [
       "ts                   ranged_group_ticker  name\n",
       "2022-07-03 18:42:50  CPICORE-22SEP        0.3%    21\n",
       "2022-07-03 23:38:44  CPICORE-22SEP        0.7%     0\n",
       "2022-07-03 23:38:56  CPICORE-22SEP        0.5%    19\n",
       "2022-07-03 23:39:06  CPICORE-22SEP        0.3%    21\n",
       "2022-07-03 23:39:14  CPICORE-22SEP        0.2%    17\n",
       "                                                  ..\n",
       "2022-10-08 23:56:30  CPICORE-22SEP        0.2%     5\n",
       "2022-10-09 02:46:49  CPICORE-22SEP        0.5%     0\n",
       "2022-10-09 02:48:07  CPICORE-22SEP        0.1%     0\n",
       "2022-10-09 02:55:47  CPICORE-22SEP        0.3%     7\n",
       "2022-10-09 02:56:43  CPICORE-22SEP        0.8%     3\n",
       "Name: target, Length: 2352, dtype: int64"
      ]
     },
     "execution_count": 406,
     "metadata": {},
     "output_type": "execute_result"
    }
   ],
   "source": [
    "#pure way: when go in , everything afterwards one; if signal says i exit, i will sell. "
   ]
  },
  {
   "cell_type": "code",
   "execution_count": 368,
   "metadata": {
    "scrolled": false
   },
   "outputs": [
    {
     "data": {
      "text/plain": [
       "ranged_group_ticker  name\n",
       "CPICORE-22SEP        0.0%     0.000000\n",
       "                     0.1%     4.446085\n",
       "                     0.2%    10.236176\n",
       "                     0.3%    11.775621\n",
       "                     0.4%    12.350025\n",
       "                     0.5%     7.592387\n",
       "                     0.6%     9.230716\n",
       "                     0.7%     5.283547\n",
       "                     0.8%    15.239012\n",
       "dtype: float64"
      ]
     },
     "execution_count": 368,
     "metadata": {},
     "output_type": "execute_result"
    }
   ],
   "source": [
    "pnl_out.groupby(['ranged_group_ticker', 'name']).apply(lambda x: x.mean() / (1e-9 + x.std()) * np.sqrt(250))"
   ]
  }
 ],
 "metadata": {
  "kernelspec": {
   "display_name": "Python 3",
   "language": "python",
   "name": "python3"
  },
  "language_info": {
   "codemirror_mode": {
    "name": "ipython",
    "version": 3
   },
   "file_extension": ".py",
   "mimetype": "text/x-python",
   "name": "python",
   "nbconvert_exporter": "python",
   "pygments_lexer": "ipython3",
   "version": "3.8.3"
  }
 },
 "nbformat": 4,
 "nbformat_minor": 4
}
