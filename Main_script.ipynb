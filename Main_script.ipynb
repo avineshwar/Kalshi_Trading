{
 "cells": [
  {
   "cell_type": "code",
   "execution_count": null,
   "metadata": {},
   "outputs": [],
   "source": [
    "import FedCurve\n",
    "import time"
   ]
  },
  {
   "cell_type": "code",
   "execution_count": null,
   "metadata": {},
   "outputs": [],
   "source": [
    "#Set meetings\n",
    "#need at least 2 meetings, in chronological order, of format 'FED-YYMMM' e.g.meetings = ['FED-23SEP','FED-23DEC']\n",
    "#we have default_meetings = most recently settled contract + all unclosed meetings\n",
    "meetings = FedCurve.default_meetings() \n",
    "#meetings = ['FED-23SEP','FED-23NOV']\n",
    "\n",
    "#Set lookback, default lookback =90\n",
    "lookback = FedCurve.lookback\n",
    "#lookback = 10"
   ]
  },
  {
   "cell_type": "code",
   "execution_count": null,
   "metadata": {
    "scrolled": true
   },
   "outputs": [],
   "source": [
    "#Get historical implied rate df - takes time\n",
    "c = time.time()\n",
    "meetings_implied_df = FedCurve.get_meetings_implied_df(series_ids = meetings,lookback = lookback)\n",
    "d = time.time()\n",
    "print(f'Process took {round((d-c)/60,2)}min')"
   ]
  },
  {
   "cell_type": "code",
   "execution_count": null,
   "metadata": {},
   "outputs": [],
   "source": [
    "#Plotting dashboard\n",
    "FedCurve.plot_historical_curve(meetings_implied_df)"
   ]
  },
  {
   "cell_type": "markdown",
   "metadata": {},
   "source": [
    "## Checking specific data points"
   ]
  },
  {
   "cell_type": "markdown",
   "metadata": {},
   "source": [
    "e.g. We see an outlier on 23MAR Meeting on 22-10-21 from our dashboard, so we dig into the details by calling the check_meeting function:"
   ]
  },
  {
   "cell_type": "code",
   "execution_count": null,
   "metadata": {},
   "outputs": [],
   "source": [
    "historical_prices,contracts = FedCurve.check_meeting('23MAR',lookback = lookback)"
   ]
  },
  {
   "cell_type": "markdown",
   "metadata": {},
   "source": [
    "We then look at all strike contracts on the outlier date:"
   ]
  },
  {
   "cell_type": "code",
   "execution_count": null,
   "metadata": {
    "scrolled": true
   },
   "outputs": [],
   "source": [
    "FedCurve.check_meeting_ondate(historical_prices,2022,10,21)"
   ]
  },
  {
   "cell_type": "markdown",
   "metadata": {},
   "source": [
    "- We see it's the '>3.25%' contract that's causing the anomolies (prices of lower strikes should >= higher strikes, since our CDF should be a non-decreasing step function)\n",
    "- So we pull up the detailed history for this specific strike over time"
   ]
  },
  {
   "cell_type": "code",
   "execution_count": null,
   "metadata": {},
   "outputs": [],
   "source": [
    "FedCurve.check_raw_data(contracts, '3.25%',2022,10,21)"
   ]
  },
  {
   "cell_type": "markdown",
   "metadata": {},
   "source": [
    "We see that the price drop is due to sudden increase in spread,(bid/ask widened to 94) hence we couldn't have profited from this. "
   ]
  }
 ],
 "metadata": {
  "kernelspec": {
   "display_name": "Python 3",
   "language": "python",
   "name": "python3"
  },
  "language_info": {
   "codemirror_mode": {
    "name": "ipython",
    "version": 3
   },
   "file_extension": ".py",
   "mimetype": "text/x-python",
   "name": "python",
   "nbconvert_exporter": "python",
   "pygments_lexer": "ipython3",
   "version": "3.8.3"
  }
 },
 "nbformat": 4,
 "nbformat_minor": 4
}
